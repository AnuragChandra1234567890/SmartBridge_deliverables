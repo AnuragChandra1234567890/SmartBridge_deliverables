{
 "cells": [
  {
   "cell_type": "code",
   "execution_count": null,
   "id": "ee6ee7e5",
   "metadata": {},
   "outputs": [],
   "source": [
    "# Narendra \n",
    "# 20BEC0729\n",
    "# Assignment - 3\n",
    "\n",
    "import numpy as np \n",
    "import pandas as pd"
   ]
  },
  {
   "cell_type": "code",
   "execution_count": null,
   "id": "2b679031",
   "metadata": {},
   "outputs": [],
   "source": [
    "df = pd.read_csv('Housing.csv')"
   ]
  },
  {
   "cell_type": "code",
   "execution_count": null,
   "id": "ac7eabda",
   "metadata": {
    "scrolled": false
   },
   "outputs": [],
   "source": [
    "df"
   ]
  },
  {
   "cell_type": "code",
   "execution_count": null,
   "id": "a0748a4b",
   "metadata": {},
   "outputs": [],
   "source": [
    "df.describe()\n"
   ]
  },
  {
   "cell_type": "code",
   "execution_count": null,
   "id": "f894d9fb",
   "metadata": {},
   "outputs": [],
   "source": [
    "df.info()"
   ]
  },
  {
   "cell_type": "code",
   "execution_count": null,
   "id": "bb2b2104",
   "metadata": {},
   "outputs": [],
   "source": [
    "df.shape"
   ]
  },
  {
   "cell_type": "code",
   "execution_count": null,
   "id": "910b2d4c",
   "metadata": {},
   "outputs": [],
   "source": [
    "df.columns.values"
   ]
  },
  {
   "cell_type": "code",
   "execution_count": null,
   "id": "60ed11eb",
   "metadata": {},
   "outputs": [],
   "source": [
    "df['mainroad'].value_counts()"
   ]
  },
  {
   "cell_type": "code",
   "execution_count": null,
   "id": "b764e0d4",
   "metadata": {},
   "outputs": [],
   "source": [
    "df['guestroom'].value_counts()"
   ]
  },
  {
   "cell_type": "code",
   "execution_count": null,
   "id": "29742ac8",
   "metadata": {},
   "outputs": [],
   "source": [
    "df['hotwaterheating'].value_counts()"
   ]
  },
  {
   "cell_type": "code",
   "execution_count": null,
   "id": "05cc049a",
   "metadata": {},
   "outputs": [],
   "source": [
    "df['airconditioning'].value_counts()"
   ]
  },
  {
   "cell_type": "code",
   "execution_count": null,
   "id": "48c8e51e",
   "metadata": {},
   "outputs": [],
   "source": [
    "# the hotwaterheating columns has very less values with value \"yes\" hence we would drop this column from our data\n",
    "\n",
    "# as it is an imbalance data "
   ]
  },
  {
   "cell_type": "code",
   "execution_count": null,
   "id": "540bdd76",
   "metadata": {},
   "outputs": [],
   "source": [
    "df.drop(columns=['hotwaterheating'],inplace=True)"
   ]
  },
  {
   "cell_type": "code",
   "execution_count": null,
   "id": "3998da57",
   "metadata": {},
   "outputs": [],
   "source": [
    "df"
   ]
  },
  {
   "cell_type": "code",
   "execution_count": null,
   "id": "1451471c",
   "metadata": {},
   "outputs": [],
   "source": [
    "import seaborn as sns"
   ]
  },
  {
   "cell_type": "code",
   "execution_count": null,
   "id": "4620e362",
   "metadata": {},
   "outputs": [],
   "source": [
    "sns.histplot(df['price'])"
   ]
  },
  {
   "cell_type": "code",
   "execution_count": null,
   "id": "2985f00d",
   "metadata": {},
   "outputs": [],
   "source": [
    "sns.histplot(df['area'])"
   ]
  },
  {
   "cell_type": "code",
   "execution_count": null,
   "id": "41691d1f",
   "metadata": {},
   "outputs": [],
   "source": [
    "sns.countplot(df['bedrooms'])"
   ]
  },
  {
   "cell_type": "code",
   "execution_count": null,
   "id": "1b5c2388",
   "metadata": {},
   "outputs": [],
   "source": [
    "sns.countplot(df['bathrooms'])"
   ]
  },
  {
   "cell_type": "code",
   "execution_count": null,
   "id": "c8055114",
   "metadata": {},
   "outputs": [],
   "source": [
    "sns.countplot(df['stories'])"
   ]
  },
  {
   "cell_type": "code",
   "execution_count": null,
   "id": "c341baa5",
   "metadata": {},
   "outputs": [],
   "source": [
    "sns.countplot(df['mainroad'])"
   ]
  },
  {
   "cell_type": "code",
   "execution_count": null,
   "id": "603f7437",
   "metadata": {},
   "outputs": [],
   "source": [
    "sns.countplot(df['guestroom'])"
   ]
  },
  {
   "cell_type": "code",
   "execution_count": null,
   "id": "fd55a2d1",
   "metadata": {},
   "outputs": [],
   "source": [
    "sns.countplot(df['basement'])"
   ]
  },
  {
   "cell_type": "code",
   "execution_count": null,
   "id": "2d6b7193",
   "metadata": {},
   "outputs": [],
   "source": [
    "sns.countplot(df['airconditioning'])"
   ]
  },
  {
   "cell_type": "code",
   "execution_count": null,
   "id": "124f88a3",
   "metadata": {},
   "outputs": [],
   "source": [
    "sns.countplot(df['parking'])"
   ]
  },
  {
   "cell_type": "code",
   "execution_count": null,
   "id": "6aab8299",
   "metadata": {},
   "outputs": [],
   "source": [
    "sns.countplot(df['furnishingstatus'])"
   ]
  },
  {
   "cell_type": "code",
   "execution_count": null,
   "id": "c47237a0",
   "metadata": {},
   "outputs": [],
   "source": [
    "sns.distplot(df['price'])"
   ]
  },
  {
   "cell_type": "code",
   "execution_count": null,
   "id": "b38c08f5",
   "metadata": {},
   "outputs": [],
   "source": [
    "print(df['price'].skew())\n",
    "print(df['price'].kurt())"
   ]
  },
  {
   "cell_type": "code",
   "execution_count": null,
   "id": "55699d4c",
   "metadata": {},
   "outputs": [],
   "source": [
    "sns.distplot(df['area'])"
   ]
  },
  {
   "cell_type": "code",
   "execution_count": null,
   "id": "99c1ed65",
   "metadata": {},
   "outputs": [],
   "source": [
    "print(df['area'].skew())\n",
    "print(df['area'].kurt())"
   ]
  },
  {
   "cell_type": "code",
   "execution_count": null,
   "id": "e7a817ae",
   "metadata": {},
   "outputs": [],
   "source": [
    "sns.boxplot(df['price'])"
   ]
  },
  {
   "cell_type": "code",
   "execution_count": null,
   "id": "36360fd9",
   "metadata": {},
   "outputs": [],
   "source": [
    "sns.boxplot(df['area'])"
   ]
  },
  {
   "cell_type": "code",
   "execution_count": null,
   "id": "9270ea49",
   "metadata": {},
   "outputs": [],
   "source": [
    "sns.pairplot(df)"
   ]
  },
  {
   "cell_type": "code",
   "execution_count": null,
   "id": "85003aee",
   "metadata": {},
   "outputs": [],
   "source": [
    "sns.heatmap(df.corr())"
   ]
  },
  {
   "cell_type": "code",
   "execution_count": null,
   "id": "8518042d",
   "metadata": {},
   "outputs": [],
   "source": [
    "df"
   ]
  },
  {
   "cell_type": "code",
   "execution_count": null,
   "id": "70381269",
   "metadata": {},
   "outputs": [],
   "source": [
    "q1 = np.percentile(df['price'],25)\n",
    "q3 = np.percentile(df['price'],75)\n",
    "\n",
    "outlier_low =  q1 - 1.5*(q3-q1)\n",
    "outlier_high =  q3 + 1.5*(q3-q1)\n",
    "\n",
    "df = df[(df['price']>outlier_low) & (df['price']<outlier_high)]"
   ]
  },
  {
   "cell_type": "code",
   "execution_count": null,
   "id": "439ab948",
   "metadata": {},
   "outputs": [],
   "source": [
    "df.shape"
   ]
  },
  {
   "cell_type": "code",
   "execution_count": null,
   "id": "d6336804",
   "metadata": {},
   "outputs": [],
   "source": [
    "q1 = np.percentile(df['area'],25)\n",
    "q3 = np.percentile(df['area'],75)\n",
    "\n",
    "outlier_low =  q1 - 1.5*(q3-q1)\n",
    "outlier_high =  q3 + 1.5*(q3-q1)\n",
    "\n",
    "df = df[(df['area']>outlier_low) & (df['area']<outlier_high)]"
   ]
  },
  {
   "cell_type": "code",
   "execution_count": null,
   "id": "50598043",
   "metadata": {},
   "outputs": [],
   "source": [
    "df.shape"
   ]
  },
  {
   "cell_type": "code",
   "execution_count": null,
   "id": "a519beeb",
   "metadata": {},
   "outputs": [],
   "source": [
    "#one hot encoding\n",
    "\n",
    "# columns to be transformed are mainroad , guestroom , basement , airconditioning ,furnishingstatus\n",
    "df = pd.get_dummies(data=df , columns=['mainroad','guestroom' ,'basement','airconditioning','furnishingstatus'],drop_first=True)"
   ]
  },
  {
   "cell_type": "code",
   "execution_count": null,
   "id": "584a793a",
   "metadata": {},
   "outputs": [],
   "source": [
    "df"
   ]
  },
  {
   "cell_type": "code",
   "execution_count": null,
   "id": "92ed7fc2",
   "metadata": {},
   "outputs": [],
   "source": [
    "df.shape"
   ]
  },
  {
   "cell_type": "code",
   "execution_count": null,
   "id": "2e65b25e",
   "metadata": {},
   "outputs": [],
   "source": [
    "sns.heatmap(df.corr() , cmap = 'summer')"
   ]
  },
  {
   "cell_type": "code",
   "execution_count": null,
   "id": "0d5685c6",
   "metadata": {},
   "outputs": [],
   "source": [
    "df['price_per_sqft'] = (df['price']/df['area']).astype('int64')"
   ]
  },
  {
   "cell_type": "code",
   "execution_count": null,
   "id": "374c4025",
   "metadata": {},
   "outputs": [],
   "source": [
    "df"
   ]
  },
  {
   "cell_type": "code",
   "execution_count": null,
   "id": "79020336",
   "metadata": {},
   "outputs": [],
   "source": [
    "sns.boxplot(df['price_per_sqft'])"
   ]
  },
  {
   "cell_type": "code",
   "execution_count": null,
   "id": "878e8d62",
   "metadata": {},
   "outputs": [],
   "source": [
    "df = df[(df['price_per_sqft'])<=1700]"
   ]
  },
  {
   "cell_type": "code",
   "execution_count": null,
   "id": "e72894fc",
   "metadata": {},
   "outputs": [],
   "source": [
    "df.shape"
   ]
  },
  {
   "cell_type": "code",
   "execution_count": null,
   "id": "29e70474",
   "metadata": {},
   "outputs": [],
   "source": [
    "sns.boxplot(df['price_per_sqft'])"
   ]
  },
  {
   "cell_type": "code",
   "execution_count": null,
   "id": "88f0caf6",
   "metadata": {},
   "outputs": [],
   "source": [
    "sns.boxplot(df['price'])"
   ]
  },
  {
   "cell_type": "code",
   "execution_count": null,
   "id": "6acb542e",
   "metadata": {},
   "outputs": [],
   "source": [
    "df = df[(df['price'])<=8e6]"
   ]
  },
  {
   "cell_type": "code",
   "execution_count": null,
   "id": "8853bd6e",
   "metadata": {},
   "outputs": [],
   "source": [
    "df.shape"
   ]
  },
  {
   "cell_type": "code",
   "execution_count": null,
   "id": "38a27185",
   "metadata": {},
   "outputs": [],
   "source": [
    "sns.boxplot(df['price'])\n"
   ]
  },
  {
   "cell_type": "code",
   "execution_count": null,
   "id": "c7f6a492",
   "metadata": {},
   "outputs": [],
   "source": [
    "sns.boxplot(df['area'])"
   ]
  },
  {
   "cell_type": "code",
   "execution_count": null,
   "id": "7b05c3e4",
   "metadata": {},
   "outputs": [],
   "source": [
    "df = df[(df['area'])<=9300]"
   ]
  },
  {
   "cell_type": "code",
   "execution_count": null,
   "id": "a8b1cf46",
   "metadata": {},
   "outputs": [],
   "source": [
    "df.shape"
   ]
  },
  {
   "cell_type": "code",
   "execution_count": null,
   "id": "ae61b0d6",
   "metadata": {},
   "outputs": [],
   "source": [
    "sns.boxplot(df['area'])"
   ]
  },
  {
   "cell_type": "code",
   "execution_count": null,
   "id": "43680b8e",
   "metadata": {},
   "outputs": [],
   "source": [
    "from sklearn.model_selection import train_test_split\n",
    "from sklearn.linear_model import LinearRegression,Lasso,Ridge\n",
    "from sklearn.preprocessing import OneHotEncoder , StandardScaler"
   ]
  },
  {
   "cell_type": "code",
   "execution_count": null,
   "id": "0dc0cad7",
   "metadata": {},
   "outputs": [],
   "source": [
    "X = df.drop(columns=['price'])\n",
    "y= df['price']"
   ]
  },
  {
   "cell_type": "code",
   "execution_count": null,
   "id": "009a4da6",
   "metadata": {},
   "outputs": [],
   "source": [
    "X"
   ]
  },
  {
   "cell_type": "code",
   "execution_count": null,
   "id": "dee122b4",
   "metadata": {},
   "outputs": [],
   "source": [
    "y"
   ]
  },
  {
   "cell_type": "code",
   "execution_count": null,
   "id": "fde27818",
   "metadata": {},
   "outputs": [],
   "source": [
    "X_train ,X_test , y_train , y_test = train_test_split(X,y,test_size=0.2 ,  random_state= 0 )"
   ]
  },
  {
   "cell_type": "code",
   "execution_count": null,
   "id": "a7b705f2",
   "metadata": {},
   "outputs": [],
   "source": [
    "X_train.shape"
   ]
  },
  {
   "cell_type": "code",
   "execution_count": null,
   "id": "e065c14d",
   "metadata": {},
   "outputs": [],
   "source": [
    "X_test.shape"
   ]
  },
  {
   "cell_type": "code",
   "execution_count": null,
   "id": "0adb6a4d",
   "metadata": {},
   "outputs": [],
   "source": [
    "from sklearn.pipeline import make_pipeline\n",
    "from sklearn.metrics import r2_score"
   ]
  },
  {
   "cell_type": "code",
   "execution_count": null,
   "id": "1b7d9ffa",
   "metadata": {},
   "outputs": [],
   "source": [
    "scaler = StandardScaler()"
   ]
  },
  {
   "cell_type": "code",
   "execution_count": null,
   "id": "0b99628d",
   "metadata": {},
   "outputs": [],
   "source": [
    "lr = LinearRegression(normalize=True)"
   ]
  },
  {
   "cell_type": "code",
   "execution_count": null,
   "id": "7aadbaf9",
   "metadata": {},
   "outputs": [],
   "source": [
    "pipe = make_pipeline(scaler,lr)"
   ]
  },
  {
   "cell_type": "code",
   "execution_count": null,
   "id": "0b09ac21",
   "metadata": {},
   "outputs": [],
   "source": [
    "pipe.fit(X_train , y_train)"
   ]
  },
  {
   "cell_type": "code",
   "execution_count": null,
   "id": "4d7b1093",
   "metadata": {},
   "outputs": [],
   "source": [
    "y_pred_lr = pipe.predict(X_test)"
   ]
  },
  {
   "cell_type": "code",
   "execution_count": null,
   "id": "412b2aab",
   "metadata": {},
   "outputs": [],
   "source": [
    "r2_score(y_test , y_pred_lr)"
   ]
  },
  {
   "cell_type": "code",
   "execution_count": null,
   "id": "e671aff0",
   "metadata": {},
   "outputs": [],
   "source": [
    "lasso = Lasso()"
   ]
  },
  {
   "cell_type": "code",
   "execution_count": null,
   "id": "bbb04cc3",
   "metadata": {},
   "outputs": [],
   "source": [
    "pipe = make_pipeline(scaler,lasso)"
   ]
  },
  {
   "cell_type": "code",
   "execution_count": null,
   "id": "fb802219",
   "metadata": {},
   "outputs": [],
   "source": [
    "pipe.fit(X_train , y_train)"
   ]
  },
  {
   "cell_type": "code",
   "execution_count": null,
   "id": "8c758221",
   "metadata": {},
   "outputs": [],
   "source": [
    "y_pred_lasso = pipe.predict(X_test)"
   ]
  },
  {
   "cell_type": "code",
   "execution_count": null,
   "id": "be876e05",
   "metadata": {},
   "outputs": [],
   "source": [
    "r2_score(y_test , y_pred_lasso)"
   ]
  },
  {
   "cell_type": "code",
   "execution_count": null,
   "id": "d76db002",
   "metadata": {},
   "outputs": [],
   "source": [
    "ridge = Ridge()"
   ]
  },
  {
   "cell_type": "code",
   "execution_count": null,
   "id": "c606274e",
   "metadata": {},
   "outputs": [],
   "source": [
    "pipe = make_pipeline(scaler , ridge)"
   ]
  },
  {
   "cell_type": "code",
   "execution_count": null,
   "id": "fc89f879",
   "metadata": {},
   "outputs": [],
   "source": [
    "pipe.fit(X_train , y_train)"
   ]
  },
  {
   "cell_type": "code",
   "execution_count": null,
   "id": "a54c47d8",
   "metadata": {},
   "outputs": [],
   "source": [
    "y_pred_ridge = pipe.predict(X_test)"
   ]
  },
  {
   "cell_type": "code",
   "execution_count": null,
   "id": "15c23fed",
   "metadata": {},
   "outputs": [],
   "source": [
    "r2_score(y_test , y_pred_ridge)"
   ]
  },
  {
   "cell_type": "code",
   "execution_count": null,
   "id": "8cadf14b",
   "metadata": {},
   "outputs": [],
   "source": [
    "from sklearn.metrics import mean_squared_error, mean_absolute_error, r2_score\n",
    "\n",
    "# Assuming you have your ground truth labels in y_test and your predicted labels in y_pred_lasso\n",
    "\n",
    "# Mean Squared Error (MSE)\n",
    "mse = mean_squared_error(y_test, y_pred_lasso)\n",
    "print(\"Mean Squared Error:\", mse)\n",
    "\n",
    "# Mean Absolute Error (MAE)\n",
    "mae = mean_absolute_error(y_test, y_pred_lasso)\n",
    "print(\"Mean Absolute Error:\", mae)\n",
    "\n",
    "# R-squared score\n",
    "r2 = r2_score(y_test, y_pred_lasso)\n",
    "print(\"R-squared Score:\", r2)\n"
   ]
  },
  {
   "cell_type": "code",
   "execution_count": null,
   "id": "b68d8b53",
   "metadata": {},
   "outputs": [],
   "source": [
    "mse = mean_squared_error(y_test, y_pred_lr)\n",
    "print(\"Mean Squared Error:\", mse)\n",
    "\n",
    "# Mean Absolute Error (MAE)\n",
    "mae = mean_absolute_error(y_test, y_pred_lr)\n",
    "print(\"Mean Absolute Error:\", mae)\n",
    "\n",
    "# R-squared score\n",
    "r2 = r2_score(y_test, y_pred_lr)\n",
    "print(\"R-squared Score:\", r2)"
   ]
  },
  {
   "cell_type": "code",
   "execution_count": null,
   "id": "f983f68a",
   "metadata": {},
   "outputs": [],
   "source": [
    "from sklearn.metrics import mean_squared_error, mean_absolute_error, r2_score\n",
    "\n",
    "# Assuming you have your ground truth labels in y_test and your predicted labels in y_pred_ridge\n",
    "\n",
    "# Mean Squared Error (MSE)\n",
    "mse = mean_squared_error(y_test, y_pred_ridge)\n",
    "print(\"Mean Squared Error:\", mse)\n",
    "\n",
    "# Mean Absolute Error (MAE)\n",
    "mae = mean_absolute_error(y_test, y_pred_ridge)\n",
    "print(\"Mean Absolute Error:\", mae)\n",
    "\n",
    "# R-squared score\n",
    "r2 = r2_score(y_test, y_pred_ridge)\n",
    "print(\"R-squared Score:\", r2)\n"
   ]
  },
  {
   "cell_type": "code",
   "execution_count": null,
   "id": "8740b235",
   "metadata": {},
   "outputs": [],
   "source": []
  }
 ],
 "metadata": {
  "kernelspec": {
   "display_name": "Python 3",
   "language": "python",
   "name": "python3"
  },
  "language_info": {
   "codemirror_mode": {
    "name": "ipython",
    "version": 3
   },
   "file_extension": ".py",
   "mimetype": "text/x-python",
   "name": "python",
   "nbconvert_exporter": "python",
   "pygments_lexer": "ipython3",
   "version": "3.11.2"
  }
 },
 "nbformat": 4,
 "nbformat_minor": 5
}
